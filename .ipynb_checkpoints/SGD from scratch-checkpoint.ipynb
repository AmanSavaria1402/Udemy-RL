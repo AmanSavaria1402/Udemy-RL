{
 "cells": [
  {
   "cell_type": "markdown",
   "metadata": {},
   "source": [
    "# Do SGD from scratch\n",
    "\n",
    "> Plan of Action:\n",
    "    1. Create Data that has a given relationship\n",
    "    2. Make the SGD loop\n",
    "            a. Get epoch count\n",
    "            b. Get learning rate\n",
    "            c. Get Batch Size\n",
    "            d. Initialize the weight values\n",
    "            e. Loop over datapoints \n",
    "            f. Update the grad value using the derivative for MSE\n",
    "            g. Subtract the grad value from the old weight matrix\n",
    "    3. Compare the error at the end of each epoch\n",
    "    4. Plot the plot for the new and the old weights"
   ]
  },
  {
   "cell_type": "code",
   "execution_count": 1,
   "metadata": {},
   "outputs": [
    {
     "name": "stdout",
     "output_type": "stream",
     "text": [
      "Libraries Loaded!\n"
     ]
    }
   ],
   "source": [
    "import numpy as np\n",
    "import pandas as pd\n",
    "import matplotlib.pyplot as plt\n",
    "\n",
    "print(\"Libraries Loaded!\")"
   ]
  },
  {
   "cell_type": "code",
   "execution_count": null,
   "metadata": {},
   "outputs": [],
   "source": [
    "# making the data\n"
   ]
  },
  {
   "cell_type": "code",
   "execution_count": null,
   "metadata": {},
   "outputs": [],
   "source": []
  },
  {
   "cell_type": "code",
   "execution_count": null,
   "metadata": {},
   "outputs": [],
   "source": []
  }
 ],
 "metadata": {
  "kernelspec": {
   "display_name": "Python 3.8.1 64-bit ('machine_learning': conda)",
   "language": "python",
   "name": "python38164bitmachinelearningconda56f6cbafc0b8489d98b3b84ca818d94c"
  },
  "language_info": {
   "codemirror_mode": {
    "name": "ipython",
    "version": 3
   },
   "file_extension": ".py",
   "mimetype": "text/x-python",
   "name": "python",
   "nbconvert_exporter": "python",
   "pygments_lexer": "ipython3",
   "version": "3.8.1"
  }
 },
 "nbformat": 4,
 "nbformat_minor": 2
}
